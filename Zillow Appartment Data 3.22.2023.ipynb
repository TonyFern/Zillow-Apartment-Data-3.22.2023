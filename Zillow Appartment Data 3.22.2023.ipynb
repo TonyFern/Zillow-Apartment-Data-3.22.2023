{
 "cells": [
  {
   "cell_type": "code",
   "execution_count": 1,
   "id": "344aed7a-d518-4439-8c36-39e943db71b1",
   "metadata": {},
   "outputs": [],
   "source": [
    "from IPython.core.interactiveshell import InteractiveShell\n",
    "InteractiveShell.ast_node_interactivity = 'all'\n",
    "\n",
    "import numpy as np ; import pandas as pd\n",
    "import ydata_profiling as ydp\n",
    "import sys\n",
    "import timeit\n",
    "import os\n",
    "import glob\n",
    "\n",
    "%matplotlib inline"
   ]
  },
  {
   "cell_type": "code",
   "execution_count": 5,
   "id": "0f0ea646-92a2-4ba6-86c0-f28a45c281e3",
   "metadata": {},
   "outputs": [],
   "source": [
    "f = glob.glob(\"*.xlsx\")"
   ]
  },
  {
   "cell_type": "code",
   "execution_count": null,
   "id": "397be2ad-2e50-47e3-a71c-65987cf542be",
   "metadata": {},
   "outputs": [],
   "source": [
    "f"
   ]
  },
  {
   "cell_type": "code",
   "execution_count": 6,
   "id": "b8c2ebd6-57e6-4a4f-abb6-f4cacf816f63",
   "metadata": {},
   "outputs": [
    {
     "name": "stderr",
     "output_type": "stream",
     "text": [
      "/var/folders/qy/m1lb8sv976v1vdhj0kvfnx4r0000gn/T/ipykernel_938/2310227618.py:6: FutureWarning: The frame.append method is deprecated and will be removed from pandas in a future version. Use pandas.concat instead.\n",
      "  all_data = all_data.append(df, ignore_index=True, verify_integrity=True)\n",
      "/var/folders/qy/m1lb8sv976v1vdhj0kvfnx4r0000gn/T/ipykernel_938/2310227618.py:6: FutureWarning: The frame.append method is deprecated and will be removed from pandas in a future version. Use pandas.concat instead.\n",
      "  all_data = all_data.append(df, ignore_index=True, verify_integrity=True)\n",
      "/var/folders/qy/m1lb8sv976v1vdhj0kvfnx4r0000gn/T/ipykernel_938/2310227618.py:6: FutureWarning: The frame.append method is deprecated and will be removed from pandas in a future version. Use pandas.concat instead.\n",
      "  all_data = all_data.append(df, ignore_index=True, verify_integrity=True)\n",
      "/var/folders/qy/m1lb8sv976v1vdhj0kvfnx4r0000gn/T/ipykernel_938/2310227618.py:6: FutureWarning: The frame.append method is deprecated and will be removed from pandas in a future version. Use pandas.concat instead.\n",
      "  all_data = all_data.append(df, ignore_index=True, verify_integrity=True)\n",
      "/var/folders/qy/m1lb8sv976v1vdhj0kvfnx4r0000gn/T/ipykernel_938/2310227618.py:6: FutureWarning: The frame.append method is deprecated and will be removed from pandas in a future version. Use pandas.concat instead.\n",
      "  all_data = all_data.append(df, ignore_index=True, verify_integrity=True)\n",
      "/var/folders/qy/m1lb8sv976v1vdhj0kvfnx4r0000gn/T/ipykernel_938/2310227618.py:6: FutureWarning: The frame.append method is deprecated and will be removed from pandas in a future version. Use pandas.concat instead.\n",
      "  all_data = all_data.append(df, ignore_index=True, verify_integrity=True)\n",
      "/var/folders/qy/m1lb8sv976v1vdhj0kvfnx4r0000gn/T/ipykernel_938/2310227618.py:6: FutureWarning: The frame.append method is deprecated and will be removed from pandas in a future version. Use pandas.concat instead.\n",
      "  all_data = all_data.append(df, ignore_index=True, verify_integrity=True)\n",
      "/var/folders/qy/m1lb8sv976v1vdhj0kvfnx4r0000gn/T/ipykernel_938/2310227618.py:6: FutureWarning: The frame.append method is deprecated and will be removed from pandas in a future version. Use pandas.concat instead.\n",
      "  all_data = all_data.append(df, ignore_index=True, verify_integrity=True)\n",
      "/var/folders/qy/m1lb8sv976v1vdhj0kvfnx4r0000gn/T/ipykernel_938/2310227618.py:6: FutureWarning: The frame.append method is deprecated and will be removed from pandas in a future version. Use pandas.concat instead.\n",
      "  all_data = all_data.append(df, ignore_index=True, verify_integrity=True)\n",
      "/var/folders/qy/m1lb8sv976v1vdhj0kvfnx4r0000gn/T/ipykernel_938/2310227618.py:6: FutureWarning: The frame.append method is deprecated and will be removed from pandas in a future version. Use pandas.concat instead.\n",
      "  all_data = all_data.append(df, ignore_index=True, verify_integrity=True)\n",
      "/var/folders/qy/m1lb8sv976v1vdhj0kvfnx4r0000gn/T/ipykernel_938/2310227618.py:6: FutureWarning: The frame.append method is deprecated and will be removed from pandas in a future version. Use pandas.concat instead.\n",
      "  all_data = all_data.append(df, ignore_index=True, verify_integrity=True)\n",
      "/var/folders/qy/m1lb8sv976v1vdhj0kvfnx4r0000gn/T/ipykernel_938/2310227618.py:6: FutureWarning: The frame.append method is deprecated and will be removed from pandas in a future version. Use pandas.concat instead.\n",
      "  all_data = all_data.append(df, ignore_index=True, verify_integrity=True)\n",
      "/var/folders/qy/m1lb8sv976v1vdhj0kvfnx4r0000gn/T/ipykernel_938/2310227618.py:6: FutureWarning: The frame.append method is deprecated and will be removed from pandas in a future version. Use pandas.concat instead.\n",
      "  all_data = all_data.append(df, ignore_index=True, verify_integrity=True)\n",
      "/var/folders/qy/m1lb8sv976v1vdhj0kvfnx4r0000gn/T/ipykernel_938/2310227618.py:6: FutureWarning: The frame.append method is deprecated and will be removed from pandas in a future version. Use pandas.concat instead.\n",
      "  all_data = all_data.append(df, ignore_index=True, verify_integrity=True)\n",
      "/var/folders/qy/m1lb8sv976v1vdhj0kvfnx4r0000gn/T/ipykernel_938/2310227618.py:6: FutureWarning: The frame.append method is deprecated and will be removed from pandas in a future version. Use pandas.concat instead.\n",
      "  all_data = all_data.append(df, ignore_index=True, verify_integrity=True)\n",
      "/var/folders/qy/m1lb8sv976v1vdhj0kvfnx4r0000gn/T/ipykernel_938/2310227618.py:6: FutureWarning: The frame.append method is deprecated and will be removed from pandas in a future version. Use pandas.concat instead.\n",
      "  all_data = all_data.append(df, ignore_index=True, verify_integrity=True)\n",
      "/var/folders/qy/m1lb8sv976v1vdhj0kvfnx4r0000gn/T/ipykernel_938/2310227618.py:6: FutureWarning: The frame.append method is deprecated and will be removed from pandas in a future version. Use pandas.concat instead.\n",
      "  all_data = all_data.append(df, ignore_index=True, verify_integrity=True)\n",
      "/var/folders/qy/m1lb8sv976v1vdhj0kvfnx4r0000gn/T/ipykernel_938/2310227618.py:6: FutureWarning: The frame.append method is deprecated and will be removed from pandas in a future version. Use pandas.concat instead.\n",
      "  all_data = all_data.append(df, ignore_index=True, verify_integrity=True)\n",
      "/var/folders/qy/m1lb8sv976v1vdhj0kvfnx4r0000gn/T/ipykernel_938/2310227618.py:6: FutureWarning: The frame.append method is deprecated and will be removed from pandas in a future version. Use pandas.concat instead.\n",
      "  all_data = all_data.append(df, ignore_index=True, verify_integrity=True)\n",
      "/var/folders/qy/m1lb8sv976v1vdhj0kvfnx4r0000gn/T/ipykernel_938/2310227618.py:6: FutureWarning: The frame.append method is deprecated and will be removed from pandas in a future version. Use pandas.concat instead.\n",
      "  all_data = all_data.append(df, ignore_index=True, verify_integrity=True)\n",
      "/var/folders/qy/m1lb8sv976v1vdhj0kvfnx4r0000gn/T/ipykernel_938/2310227618.py:6: FutureWarning: The frame.append method is deprecated and will be removed from pandas in a future version. Use pandas.concat instead.\n",
      "  all_data = all_data.append(df, ignore_index=True, verify_integrity=True)\n",
      "/var/folders/qy/m1lb8sv976v1vdhj0kvfnx4r0000gn/T/ipykernel_938/2310227618.py:6: FutureWarning: The frame.append method is deprecated and will be removed from pandas in a future version. Use pandas.concat instead.\n",
      "  all_data = all_data.append(df, ignore_index=True, verify_integrity=True)\n",
      "/var/folders/qy/m1lb8sv976v1vdhj0kvfnx4r0000gn/T/ipykernel_938/2310227618.py:6: FutureWarning: The frame.append method is deprecated and will be removed from pandas in a future version. Use pandas.concat instead.\n",
      "  all_data = all_data.append(df, ignore_index=True, verify_integrity=True)\n",
      "/var/folders/qy/m1lb8sv976v1vdhj0kvfnx4r0000gn/T/ipykernel_938/2310227618.py:6: FutureWarning: The frame.append method is deprecated and will be removed from pandas in a future version. Use pandas.concat instead.\n",
      "  all_data = all_data.append(df, ignore_index=True, verify_integrity=True)\n",
      "/var/folders/qy/m1lb8sv976v1vdhj0kvfnx4r0000gn/T/ipykernel_938/2310227618.py:6: FutureWarning: The frame.append method is deprecated and will be removed from pandas in a future version. Use pandas.concat instead.\n",
      "  all_data = all_data.append(df, ignore_index=True, verify_integrity=True)\n",
      "/var/folders/qy/m1lb8sv976v1vdhj0kvfnx4r0000gn/T/ipykernel_938/2310227618.py:6: FutureWarning: The frame.append method is deprecated and will be removed from pandas in a future version. Use pandas.concat instead.\n",
      "  all_data = all_data.append(df, ignore_index=True, verify_integrity=True)\n",
      "/var/folders/qy/m1lb8sv976v1vdhj0kvfnx4r0000gn/T/ipykernel_938/2310227618.py:6: FutureWarning: The frame.append method is deprecated and will be removed from pandas in a future version. Use pandas.concat instead.\n",
      "  all_data = all_data.append(df, ignore_index=True, verify_integrity=True)\n",
      "/var/folders/qy/m1lb8sv976v1vdhj0kvfnx4r0000gn/T/ipykernel_938/2310227618.py:6: FutureWarning: The frame.append method is deprecated and will be removed from pandas in a future version. Use pandas.concat instead.\n",
      "  all_data = all_data.append(df, ignore_index=True, verify_integrity=True)\n",
      "/var/folders/qy/m1lb8sv976v1vdhj0kvfnx4r0000gn/T/ipykernel_938/2310227618.py:6: FutureWarning: The frame.append method is deprecated and will be removed from pandas in a future version. Use pandas.concat instead.\n",
      "  all_data = all_data.append(df, ignore_index=True, verify_integrity=True)\n",
      "/var/folders/qy/m1lb8sv976v1vdhj0kvfnx4r0000gn/T/ipykernel_938/2310227618.py:6: FutureWarning: The frame.append method is deprecated and will be removed from pandas in a future version. Use pandas.concat instead.\n",
      "  all_data = all_data.append(df, ignore_index=True, verify_integrity=True)\n",
      "/var/folders/qy/m1lb8sv976v1vdhj0kvfnx4r0000gn/T/ipykernel_938/2310227618.py:6: FutureWarning: The frame.append method is deprecated and will be removed from pandas in a future version. Use pandas.concat instead.\n",
      "  all_data = all_data.append(df, ignore_index=True, verify_integrity=True)\n",
      "/var/folders/qy/m1lb8sv976v1vdhj0kvfnx4r0000gn/T/ipykernel_938/2310227618.py:6: FutureWarning: The frame.append method is deprecated and will be removed from pandas in a future version. Use pandas.concat instead.\n",
      "  all_data = all_data.append(df, ignore_index=True, verify_integrity=True)\n",
      "/var/folders/qy/m1lb8sv976v1vdhj0kvfnx4r0000gn/T/ipykernel_938/2310227618.py:6: FutureWarning: The frame.append method is deprecated and will be removed from pandas in a future version. Use pandas.concat instead.\n",
      "  all_data = all_data.append(df, ignore_index=True, verify_integrity=True)\n",
      "/var/folders/qy/m1lb8sv976v1vdhj0kvfnx4r0000gn/T/ipykernel_938/2310227618.py:6: FutureWarning: The frame.append method is deprecated and will be removed from pandas in a future version. Use pandas.concat instead.\n",
      "  all_data = all_data.append(df, ignore_index=True, verify_integrity=True)\n",
      "/var/folders/qy/m1lb8sv976v1vdhj0kvfnx4r0000gn/T/ipykernel_938/2310227618.py:6: FutureWarning: The frame.append method is deprecated and will be removed from pandas in a future version. Use pandas.concat instead.\n",
      "  all_data = all_data.append(df, ignore_index=True, verify_integrity=True)\n",
      "/var/folders/qy/m1lb8sv976v1vdhj0kvfnx4r0000gn/T/ipykernel_938/2310227618.py:6: FutureWarning: The frame.append method is deprecated and will be removed from pandas in a future version. Use pandas.concat instead.\n",
      "  all_data = all_data.append(df, ignore_index=True, verify_integrity=True)\n",
      "/var/folders/qy/m1lb8sv976v1vdhj0kvfnx4r0000gn/T/ipykernel_938/2310227618.py:6: FutureWarning: The frame.append method is deprecated and will be removed from pandas in a future version. Use pandas.concat instead.\n",
      "  all_data = all_data.append(df, ignore_index=True, verify_integrity=True)\n",
      "/var/folders/qy/m1lb8sv976v1vdhj0kvfnx4r0000gn/T/ipykernel_938/2310227618.py:6: FutureWarning: The frame.append method is deprecated and will be removed from pandas in a future version. Use pandas.concat instead.\n",
      "  all_data = all_data.append(df, ignore_index=True, verify_integrity=True)\n",
      "/var/folders/qy/m1lb8sv976v1vdhj0kvfnx4r0000gn/T/ipykernel_938/2310227618.py:6: FutureWarning: The frame.append method is deprecated and will be removed from pandas in a future version. Use pandas.concat instead.\n",
      "  all_data = all_data.append(df, ignore_index=True, verify_integrity=True)\n",
      "/var/folders/qy/m1lb8sv976v1vdhj0kvfnx4r0000gn/T/ipykernel_938/2310227618.py:6: FutureWarning: The frame.append method is deprecated and will be removed from pandas in a future version. Use pandas.concat instead.\n",
      "  all_data = all_data.append(df, ignore_index=True, verify_integrity=True)\n",
      "/var/folders/qy/m1lb8sv976v1vdhj0kvfnx4r0000gn/T/ipykernel_938/2310227618.py:6: FutureWarning: The frame.append method is deprecated and will be removed from pandas in a future version. Use pandas.concat instead.\n",
      "  all_data = all_data.append(df, ignore_index=True, verify_integrity=True)\n",
      "/var/folders/qy/m1lb8sv976v1vdhj0kvfnx4r0000gn/T/ipykernel_938/2310227618.py:6: FutureWarning: The frame.append method is deprecated and will be removed from pandas in a future version. Use pandas.concat instead.\n",
      "  all_data = all_data.append(df, ignore_index=True, verify_integrity=True)\n",
      "/var/folders/qy/m1lb8sv976v1vdhj0kvfnx4r0000gn/T/ipykernel_938/2310227618.py:6: FutureWarning: The frame.append method is deprecated and will be removed from pandas in a future version. Use pandas.concat instead.\n",
      "  all_data = all_data.append(df, ignore_index=True, verify_integrity=True)\n",
      "/var/folders/qy/m1lb8sv976v1vdhj0kvfnx4r0000gn/T/ipykernel_938/2310227618.py:6: FutureWarning: The frame.append method is deprecated and will be removed from pandas in a future version. Use pandas.concat instead.\n",
      "  all_data = all_data.append(df, ignore_index=True, verify_integrity=True)\n",
      "/var/folders/qy/m1lb8sv976v1vdhj0kvfnx4r0000gn/T/ipykernel_938/2310227618.py:6: FutureWarning: The frame.append method is deprecated and will be removed from pandas in a future version. Use pandas.concat instead.\n",
      "  all_data = all_data.append(df, ignore_index=True, verify_integrity=True)\n",
      "/var/folders/qy/m1lb8sv976v1vdhj0kvfnx4r0000gn/T/ipykernel_938/2310227618.py:6: FutureWarning: The frame.append method is deprecated and will be removed from pandas in a future version. Use pandas.concat instead.\n",
      "  all_data = all_data.append(df, ignore_index=True, verify_integrity=True)\n",
      "/var/folders/qy/m1lb8sv976v1vdhj0kvfnx4r0000gn/T/ipykernel_938/2310227618.py:6: FutureWarning: The frame.append method is deprecated and will be removed from pandas in a future version. Use pandas.concat instead.\n",
      "  all_data = all_data.append(df, ignore_index=True, verify_integrity=True)\n",
      "/var/folders/qy/m1lb8sv976v1vdhj0kvfnx4r0000gn/T/ipykernel_938/2310227618.py:6: FutureWarning: The frame.append method is deprecated and will be removed from pandas in a future version. Use pandas.concat instead.\n",
      "  all_data = all_data.append(df, ignore_index=True, verify_integrity=True)\n",
      "/var/folders/qy/m1lb8sv976v1vdhj0kvfnx4r0000gn/T/ipykernel_938/2310227618.py:6: FutureWarning: The frame.append method is deprecated and will be removed from pandas in a future version. Use pandas.concat instead.\n",
      "  all_data = all_data.append(df, ignore_index=True, verify_integrity=True)\n",
      "/var/folders/qy/m1lb8sv976v1vdhj0kvfnx4r0000gn/T/ipykernel_938/2310227618.py:6: FutureWarning: The frame.append method is deprecated and will be removed from pandas in a future version. Use pandas.concat instead.\n",
      "  all_data = all_data.append(df, ignore_index=True, verify_integrity=True)\n"
     ]
    }
   ],
   "source": [
    "all_data = pd.DataFrame()\n",
    "\n",
    "for g in f:\n",
    "    df = pd.read_excel(g)\n",
    "    df['filename'] = os.path.basename(g)\n",
    "    all_data = all_data.append(df, ignore_index=True, verify_integrity=True)\n"
   ]
  },
  {
   "cell_type": "code",
   "execution_count": 7,
   "id": "66921421-bea5-4c07-ac25-c1a35b7c6c3f",
   "metadata": {},
   "outputs": [
    {
     "data": {
      "text/plain": [
       "(1396, 14)"
      ]
     },
     "execution_count": 7,
     "metadata": {},
     "output_type": "execute_result"
    }
   ],
   "source": [
    "all_data.shape"
   ]
  },
  {
   "cell_type": "code",
   "execution_count": 9,
   "id": "3682814f-9ed8-4532-bf80-d75d4fa0a8aa",
   "metadata": {},
   "outputs": [
    {
     "data": {
      "text/plain": [
       "(1128, 14)"
      ]
     },
     "execution_count": 9,
     "metadata": {},
     "output_type": "execute_result"
    }
   ],
   "source": [
    "all_data.drop_duplicates(subset=['Property URL',\n",
    " 'Property type',\n",
    " 'Address',\n",
    " 'City',\n",
    " 'State',\n",
    " 'Zip',\n",
    " 'Country',\n",
    " 'Beds',\n",
    " 'Baths',\n",
    " 'Rental Price (USD per month)',\n",
    " 'Size',\n",
    " 'Size unit',\n",
    " 'Price per size unit (USD)'], inplace=True)\n",
    "\n",
    "all_data.shape"
   ]
  },
  {
   "cell_type": "code",
   "execution_count": 10,
   "id": "1347e11f-e720-482a-8116-f73adc9f5d10",
   "metadata": {},
   "outputs": [],
   "source": [
    "all_data.to_excel(\"Combined_Zillow_Apartment_03.22.2023.xlsx\",index=False,encoding='utf-8')"
   ]
  },
  {
   "cell_type": "code",
   "execution_count": 17,
   "id": "e9322575-d955-4fc1-9e66-31ff5bd151a0",
   "metadata": {},
   "outputs": [
    {
     "data": {
      "text/plain": [
       "['Property URL',\n",
       " 'Property type',\n",
       " 'Address',\n",
       " 'City',\n",
       " 'State',\n",
       " 'Zip',\n",
       " 'Country',\n",
       " 'Beds',\n",
       " 'Baths',\n",
       " 'Rental Price (USD per month)',\n",
       " 'Size',\n",
       " 'Size unit',\n",
       " 'Price per size unit (USD)',\n",
       " 'filename']"
      ]
     },
     "execution_count": 17,
     "metadata": {},
     "output_type": "execute_result"
    }
   ],
   "source": [
    "all_data.columns.values.tolist()"
   ]
  },
  {
   "cell_type": "code",
   "execution_count": null,
   "id": "2501f780-6135-47c1-95fa-6145218d90af",
   "metadata": {},
   "outputs": [],
   "source": []
  },
  {
   "cell_type": "code",
   "execution_count": 11,
   "id": "76ef49a6-64f5-451f-b91d-06aab833a1aa",
   "metadata": {},
   "outputs": [
    {
     "name": "stdout",
     "output_type": "stream",
     "text": [
      "InteractiveShell\t all_data\t df\t f\t g\t glob\t np\t os\t pd\t \n",
      "sys\t timeit\t ydp\t \n"
     ]
    }
   ],
   "source": [
    "who"
   ]
  },
  {
   "cell_type": "code",
   "execution_count": 16,
   "id": "701742bc-ddea-4a76-be01-3abf70eef945",
   "metadata": {},
   "outputs": [
    {
     "name": "stdout",
     "output_type": "stream",
     "text": [
      "\u001b[34mArchive\u001b[m\u001b[m/\n",
      "Combined_Zillow_Apartment_03.22.2023.xlsx\n",
      "Zillow Appartment Data 3.22.2023.ipynb\n",
      "Zillow_Data_Pandas_Profile_Summary.html\n",
      "_Combined_Zillow_Apartment_03.22.2023.xlsx\n",
      "\u001b[31mzillow-properties-for-rent-2023-03-22_11_56_41.xlsx\u001b[m\u001b[m*\n",
      "\u001b[31mzillow-properties-for-rent-2023-03-22_11_57_43.xlsx\u001b[m\u001b[m*\n",
      "\u001b[31mzillow-properties-for-rent-2023-03-22_12_00_11.xlsx\u001b[m\u001b[m*\n",
      "\u001b[31mzillow-properties-for-rent-2023-03-22_12_01_03.xlsx\u001b[m\u001b[m*\n",
      "\u001b[31mzillow-properties-for-rent-2023-03-22_12_01_52.xlsx\u001b[m\u001b[m*\n",
      "\u001b[31mzillow-properties-for-rent-2023-03-22_12_02_44.xlsx\u001b[m\u001b[m*\n",
      "\u001b[31mzillow-properties-for-rent-2023-03-22_12_04_02.xlsx\u001b[m\u001b[m*\n",
      "\u001b[31mzillow-properties-for-rent-2023-03-22_12_04_55.xlsx\u001b[m\u001b[m*\n",
      "\u001b[31mzillow-properties-for-rent-2023-03-22_12_06_02.xlsx\u001b[m\u001b[m*\n",
      "\u001b[31mzillow-properties-for-rent-2023-03-22_12_07_02.xlsx\u001b[m\u001b[m*\n",
      "\u001b[31mzillow-properties-for-rent-2023-03-22_12_08_41.xlsx\u001b[m\u001b[m*\n",
      "\u001b[31mzillow-properties-for-rent-2023-03-22_12_10_49.xlsx\u001b[m\u001b[m*\n",
      "\u001b[31mzillow-properties-for-rent-2023-03-22_12_11_55.xlsx\u001b[m\u001b[m*\n",
      "\u001b[31mzillow-properties-for-rent-2023-03-22_12_15_02.xlsx\u001b[m\u001b[m*\n",
      "\u001b[31mzillow-properties-for-rent-2023-03-22_12_18_07.xlsx\u001b[m\u001b[m*\n",
      "\u001b[31mzillow-properties-for-rent-2023-03-22_12_18_49.xlsx\u001b[m\u001b[m*\n",
      "\u001b[31mzillow-properties-for-rent-2023-03-22_12_19_38.xlsx\u001b[m\u001b[m*\n",
      "\u001b[31mzillow-properties-for-rent-2023-03-22_12_20_25.xlsx\u001b[m\u001b[m*\n",
      "\u001b[31mzillow-properties-for-rent-2023-03-22_12_21_13.xlsx\u001b[m\u001b[m*\n",
      "\u001b[31mzillow-properties-for-rent-2023-03-22_12_22_09.xlsx\u001b[m\u001b[m*\n",
      "\u001b[31mzillow-properties-for-rent-2023-03-22_12_23_05.xlsx\u001b[m\u001b[m*\n",
      "\u001b[31mzillow-properties-for-rent-2023-03-22_12_24_24.xlsx\u001b[m\u001b[m*\n",
      "\u001b[31mzillow-properties-for-rent-2023-03-22_12_25_31.xlsx\u001b[m\u001b[m*\n",
      "\u001b[31mzillow-properties-for-rent-2023-03-22_12_27_35.xlsx\u001b[m\u001b[m*\n",
      "\u001b[31mzillow-properties-for-rent-2023-03-22_12_29_28.xlsx\u001b[m\u001b[m*\n",
      "\u001b[31mzillow-properties-for-rent-2023-03-22_12_30_23.xlsx\u001b[m\u001b[m*\n",
      "\u001b[31mzillow-properties-for-rent-2023-03-22_12_31_05.xlsx\u001b[m\u001b[m*\n",
      "\u001b[31mzillow-properties-for-rent-2023-03-22_12_32_03.xlsx\u001b[m\u001b[m*\n",
      "\u001b[31mzillow-properties-for-rent-2023-03-22_12_33_24.xlsx\u001b[m\u001b[m*\n",
      "\u001b[31mzillow-properties-for-rent-2023-03-22_12_36_46.xlsx\u001b[m\u001b[m*\n",
      "\u001b[31mzillow-properties-for-rent-2023-03-22_12_41_02.xlsx\u001b[m\u001b[m*\n",
      "\u001b[31mzillow-properties-for-rent-2023-03-22_12_42_32.xlsx\u001b[m\u001b[m*\n",
      "\u001b[31mzillow-properties-for-rent-2023-03-22_12_44_04.xlsx\u001b[m\u001b[m*\n",
      "\u001b[31mzillow-properties-for-rent-2023-03-22_12_46_18.xlsx\u001b[m\u001b[m*\n",
      "\u001b[31mzillow-properties-for-rent-2023-03-22_12_47_04.xlsx\u001b[m\u001b[m*\n",
      "\u001b[31mzillow-properties-for-rent-2023-03-22_12_48_18.xlsx\u001b[m\u001b[m*\n",
      "\u001b[31mzillow-properties-for-rent-2023-03-22_12_49_03.xlsx\u001b[m\u001b[m*\n",
      "\u001b[31mzillow-properties-for-rent-2023-03-22_12_49_47.xlsx\u001b[m\u001b[m*\n",
      "\u001b[31mzillow-properties-for-rent-2023-03-22_12_53_40.xlsx\u001b[m\u001b[m*\n",
      "\u001b[31mzillow-properties-for-rent-2023-03-22_12_54_23.xlsx\u001b[m\u001b[m*\n",
      "\u001b[31mzillow-properties-for-rent-2023-03-22_12_55_23.xlsx\u001b[m\u001b[m*\n",
      "\u001b[31mzillow-properties-for-rent-2023-03-22_12_56_10.xlsx\u001b[m\u001b[m*\n",
      "\u001b[31mzillow-properties-for-rent-2023-03-22_12_59_00.xlsx\u001b[m\u001b[m*\n",
      "\u001b[31mzillow-properties-for-rent-2023-03-22_13_02_04.xlsx\u001b[m\u001b[m*\n",
      "\u001b[31mzillow-properties-for-rent-2023-03-22_13_03_50.xlsx\u001b[m\u001b[m*\n",
      "\u001b[31mzillow-properties-for-rent-2023-03-22_13_05_51.xlsx\u001b[m\u001b[m*\n",
      "\u001b[31mzillow-properties-for-rent-2023-03-22_13_06_58.xlsx\u001b[m\u001b[m*\n",
      "\u001b[31mzillow-properties-for-rent-2023-03-22_13_07_33.xlsx\u001b[m\u001b[m*\n",
      "\u001b[31mzillow-properties-for-rent-2023-03-22_13_12_55.xlsx\u001b[m\u001b[m*\n",
      "\u001b[31mzillow-properties-for-rent-2023-03-22_13_15_01.xlsx\u001b[m\u001b[m*\n"
     ]
    }
   ],
   "source": [
    "ls"
   ]
  },
  {
   "cell_type": "code",
   "execution_count": 17,
   "id": "7e637eff-ecc8-45f9-b2d4-466d8f61ba40",
   "metadata": {},
   "outputs": [],
   "source": [
    "_all_data = pd.read_excel('Combined_Zillow_Apartment_03.22.2023.xlsx',sheet_name='master.data')"
   ]
  },
  {
   "cell_type": "code",
   "execution_count": null,
   "id": "1ab95327-1e45-4f48-bf8b-d485e32a5a63",
   "metadata": {},
   "outputs": [],
   "source": []
  },
  {
   "cell_type": "code",
   "execution_count": 18,
   "id": "4677972e-f3de-4844-810b-e049b1d47ea6",
   "metadata": {},
   "outputs": [
    {
     "data": {
      "application/vnd.jupyter.widget-view+json": {
       "model_id": "edafa467f16d43559c4a181c8b1d442b",
       "version_major": 2,
       "version_minor": 0
      },
      "text/plain": [
       "Summarize dataset:   0%|          | 0/5 [00:00<?, ?it/s]"
      ]
     },
     "metadata": {},
     "output_type": "display_data"
    },
    {
     "data": {
      "application/vnd.jupyter.widget-view+json": {
       "model_id": "5f4f4777f2284c98b843a00223be1b61",
       "version_major": 2,
       "version_minor": 0
      },
      "text/plain": [
       "Generate report structure:   0%|          | 0/1 [00:00<?, ?it/s]"
      ]
     },
     "metadata": {},
     "output_type": "display_data"
    },
    {
     "data": {
      "application/vnd.jupyter.widget-view+json": {
       "model_id": "7eafe65806f34b81a43af29930b021b0",
       "version_major": 2,
       "version_minor": 0
      },
      "text/plain": [
       "Render HTML:   0%|          | 0/1 [00:00<?, ?it/s]"
      ]
     },
     "metadata": {},
     "output_type": "display_data"
    },
    {
     "data": {
      "application/vnd.jupyter.widget-view+json": {
       "model_id": "4a126c3080c745758d44413240563798",
       "version_major": 2,
       "version_minor": 0
      },
      "text/plain": [
       "Export report to file:   0%|          | 0/1 [00:00<?, ?it/s]"
      ]
     },
     "metadata": {},
     "output_type": "display_data"
    }
   ],
   "source": [
    "prof = ydp.ProfileReport(_all_data)\n",
    "prof.to_file('Zillow_Data_Pandas_Profile_Summary.html')"
   ]
  },
  {
   "cell_type": "code",
   "execution_count": null,
   "id": "edc924ad-b573-468f-a4b1-cf289abe2037",
   "metadata": {},
   "outputs": [],
   "source": []
  }
 ],
 "metadata": {
  "kernelspec": {
   "display_name": "Python 3 (ipykernel)",
   "language": "python",
   "name": "python3"
  },
  "language_info": {
   "codemirror_mode": {
    "name": "ipython",
    "version": 3
   },
   "file_extension": ".py",
   "mimetype": "text/x-python",
   "name": "python",
   "nbconvert_exporter": "python",
   "pygments_lexer": "ipython3",
   "version": "3.9.13"
  }
 },
 "nbformat": 4,
 "nbformat_minor": 5
}
